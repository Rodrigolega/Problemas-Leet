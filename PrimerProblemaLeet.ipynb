{
  "cells": [
    {
      "cell_type": "markdown",
      "metadata": {
        "id": "6AEzcWZ2mMej"
      },
      "source": [
        "como primer problema en leet nos encotramos una sume de dos numeros, por lo que entendi ocupamos un arreglo y en ese arreglo encontrar dos numeros que nos resulten en nuestro taget\n",
        "yo la verdad tuve que investigar porque no recordaba como escribirlo pero se que tiene que hacer\""
      ]
    },
    {
      "cell_type": "code",
      "execution_count": 1,
      "metadata": {
        "colab": {
          "base_uri": "https://localhost:8080/"
        },
        "id": "9hXQpTFCma4c",
        "outputId": "68f2ca26-e1fc-41e8-eff5-fb6bc8516167"
      },
      "outputs": [
        {
          "name": "stdout",
          "output_type": "stream",
          "text": [
            "Índices encontrados: [0, 1]\n"
          ]
        }
      ],
      "source": [
        "class Solution:\n",
        "    def twoSum(self, nums, target):\n",
        "        \"este ciclo for nos ayudara a recorrer nuestro arreglo, se le pone len(nums) para que independientemente del arreglo se pueda hacer sin importar su tamano\"\n",
        "        for i in range(len(nums)):\n",
        "            \"se inicia otro ciclo para ver cuales son mis numeros que sumados me dan el target, este suma todos los numeros hasta que me de el target\"\n",
        "            for j in range(i + 1, len(nums)):\n",
        "                if nums[i] + nums[j] == target:\n",
        "                    return [i, j]\n",
        "        return None\n",
        "\n",
        "# Crear una inst ancia de la clase\n",
        "sol = Solution()\n",
        "\n",
        "# Datos de entrada\n",
        "arreglo = [2, 7, 11, 15]\n",
        "target = 9\n",
        "\n",
        "# Ejecutar el método\n",
        "resultado = sol.twoSum(arreglo, target)\n",
        "\n",
        "if resultado:\n",
        "    print(f\"Índices encontrados: {resultado}\")\n",
        "else:\n",
        "    print(\"No se encontró una pareja que sume el target.\")"
      ]
    },
    {
      "cell_type": "markdown",
      "metadata": {
        "id": "gA08Bza_mpFy"
      },
      "source": [
        "Aqui fue el primer problema de leet code, la verdad en cuanto vi de que trataba me imagine hacerlo con dos ciclos for complicando un poco el codigo pero fue mi primera idea, hacer qeu agarre un numero y ese irlo comparando uno a uno para sacar mi target, no recordaba muy bien como escribir en python pero ahora me refresque un poco la memoria, busque una forma mas eficiente de hacerlo y fue con hash map, esta se me hizo mas complicada pero es mas eficiente ya que tiene una complejidad de o(n) y yo use o(n^2) quiero aprender mas acerca del hash porque mi codigo es muy basico y complicado pero saca el resultado comparando todos los elementos de mi lista para ver cuales suman el target.\n",
        "\n"
      ]
    }
  ],
  "metadata": {
    "colab": {
      "provenance": []
    },
    "kernelspec": {
      "display_name": "Python 3",
      "name": "python3"
    },
    "language_info": {
      "name": "python"
    }
  },
  "nbformat": 4,
  "nbformat_minor": 0
}
