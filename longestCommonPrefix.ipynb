{
  "nbformat": 4,
  "nbformat_minor": 0,
  "metadata": {
    "colab": {
      "provenance": []
    },
    "kernelspec": {
      "name": "python3",
      "display_name": "Python 3"
    },
    "language_info": {
      "name": "python"
    }
  },
  "cells": [
    {
      "cell_type": "markdown",
      "source": [
        "**longest Common Prefix**\n",
        "\n",
        "este codigo no es tan complejo pero si tuve que investigar acerca de las sublistas y sobre que eran los prefijos, al final la solucion es comparar las palabras entre si pero recortandolas a la vez para encontrar el mismo comienzo"
      ],
      "metadata": {
        "id": "9CSJbSHRoXIw"
      }
    },
    {
      "cell_type": "code",
      "execution_count": 1,
      "metadata": {
        "colab": {
          "base_uri": "https://localhost:8080/"
        },
        "id": "7HaR7Sf8oUj6",
        "outputId": "9493e1cd-ddf8-4ef1-fecd-f7bab702dce6"
      },
      "outputs": [
        {
          "output_type": "stream",
          "name": "stdout",
          "text": [
            "fl\n"
          ]
        }
      ],
      "source": [
        "#un prefijo es lo comun de las palabras que le pasemos\n",
        "class Solution:\n",
        "    def longestCommonPrefix(self, strs:str) -> str:\n",
        "        #si no hay palabras en nuestra lista que le pasemos que salte el proceso ya que pues no hay nada que hacer\n",
        "        if not strs:\n",
        "            return \"\"\n",
        "        #primero debemos agarrar nuestra primera palabra para poder decidir cual es nuestro prefijo\n",
        "        prefix = strs[0]\n",
        "        #de aqui se va a ir comparando esta palabra con las demas para ver cuales tienen el mismo prefijo\n",
        "        for word in strs[1:]:\n",
        "            #con 1: hacemos nuestra sublista para hacer las otras comparaciones para descubrir nuestro prefijp\n",
        "            # recorremos el arreglo para poder comparar nuestras palabras\n",
        "            while not word.startswith(prefix):\n",
        "                #esta es una funcion de python que nos devuelve verdadero o falso si el prefijo es igual\n",
        "                prefix = prefix[:-1]\n",
        "                #aqui hacemos las comparaciones con la segunda palabra elegida por el recorrido cada vez mas recortada, si esta palabra no tiene nada igual despues de muchos recortes se salta\n",
        "                if prefix == \"\":\n",
        "                    return \"\"\n",
        "                #si nuestro prefijo es igual se agrega a la ista y se devuelve\n",
        "        return prefix\n",
        "\n",
        "sol = Solution()\n",
        "res = sol.longestCommonPrefix([\"flower\",\"flow\",\"flight\"])\n",
        "print(res)"
      ]
    },
    {
      "cell_type": "markdown",
      "source": [
        "**Complejidad Big-O**\n",
        "\n",
        "este codigo hace varias comparaciones, por ejemplo al recorrer el arreglo tiene una complejidad dependiente a lo largo de las palabras, osea que entre mas palabras mas timpo tarda el codigo\n",
        "\n",
        "Inicialización prefix = strs[0]\tO(m)\n",
        "\n",
        "Bucle for sobre palabras\tO(n)\n",
        "\n",
        "Bucle interno while + startswith\tO(n · m²)\n",
        "\n",
        "Total\tO(n · m²)\n",
        "\n",
        "O(n)×O(m\n",
        "2\n",
        " )=O(n⋅m\n",
        "2\n",
        " )\n",
        "\n",
        "este es de los peores casos, tarda mucho\n"
      ],
      "metadata": {
        "id": "fsup-gM9pgi5"
      }
    },
    {
      "cell_type": "markdown",
      "source": [
        "**version compleja**\n",
        "\n",
        "Ya no recortamos el prefijo con prefix[:-1] eso puede ser lento.\n",
        "\n",
        "Vamos directamente a comparar cada posición una sola vez\n",
        "\n",
        "No usamos startswith, solo indexado simple es más bajo nivel y más eficiente."
      ],
      "metadata": {
        "id": "S8garFPGsHAV"
      }
    },
    {
      "cell_type": "code",
      "source": [
        "class Solution:\n",
        "    def longestCommonPrefix(self, strs:str) -> str:\n",
        "        if not strs:\n",
        "            return \"\"\n",
        "\n",
        "        # Tomamos la palabra más corta (ningún prefijo puede ser más largo que ella)\n",
        "        min_length = min(len(word) for word in strs)\n",
        "\n",
        "        prefix = \"\"\n",
        "\n",
        "        for i in range(min_length):\n",
        "            # Tomamos el carácter en la posición i de la primera palabra\n",
        "            current_char = strs[0][i]\n",
        "\n",
        "            # Comparamos ese carácter con la misma posición en todas las palabras\n",
        "            for word in strs:\n",
        "                if word[i] != current_char:\n",
        "                    return prefix  # Si hay diferencia, retornamos el prefijo encontrado hasta ahora\n",
        "\n",
        "            # Si todas coincidieron, agregamos esa letra al prefijo\n",
        "            prefix += current_char\n",
        "\n",
        "        return prefix\n",
        "\n",
        "sol = Solution()\n",
        "res = sol.longestCommonPrefix([\"flower\",\"flow\",\"flight\"])\n",
        "print(res)"
      ],
      "metadata": {
        "colab": {
          "base_uri": "https://localhost:8080/"
        },
        "id": "zzQzKSogsLQl",
        "outputId": "86bec38b-dab7-4fd0-bfad-e84920ef299a"
      },
      "execution_count": 7,
      "outputs": [
        {
          "output_type": "stream",
          "name": "stdout",
          "text": [
            "fl\n"
          ]
        }
      ]
    },
    {
      "cell_type": "markdown",
      "source": [
        "**Complejidad Big-O**\n",
        "\n",
        "Hay n palabras.\n",
        "\n",
        "La palabra más corta tiene longitud m.\n",
        "\n",
        "Compara cada carácter de todas las palabras asi que es O(n · m) en el peor caso.\n",
        "\n",
        "mejor que la solucion simple"
      ],
      "metadata": {
        "id": "2jQFAH_5tzNf"
      }
    }
  ]
}