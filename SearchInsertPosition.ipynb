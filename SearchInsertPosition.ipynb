{
  "cells": [
    {
      "cell_type": "markdown",
      "metadata": {
        "id": "jaugS1a-BF_y"
      },
      "source": [
        "**Search Insert Position**\n",
        "\n",
        "**Solucion simple:**"
      ]
    },
    {
      "cell_type": "code",
      "execution_count": 2,
      "metadata": {
        "colab": {
          "base_uri": "https://localhost:8080/"
        },
        "id": "xUDtE7puBEp9",
        "outputId": "84e33e43-2d0d-4e22-9ffc-845ebc7204cb"
      },
      "outputs": [
        {
          "name": "stdout",
          "output_type": "stream",
          "text": [
            "2\n"
          ]
        }
      ],
      "source": [
        "#este problema estaba muy facil ya que en la clase vimos acerca de la busqueda lineal\n",
        "#aqui solo nos pide buscar un numero en un arreglo asi que solo se tiene que recorrer y ver cual numero es igual a nuestro target\n",
        "#tambien nos pide que si nuestro target no esta pongamos donde puede ir el target sin afectar el ordend de nuestro arreglo\n",
        "class Solution:\n",
        "    def searchInsert(self, nums: int, target: int) -> int:\n",
        "        for i in range(len(nums)):\n",
        "            #debemos recorrer nuestro arreglo para buscar el numero\n",
        "            if nums[i] >= target:\n",
        "                return i\n",
        "            #si encontramos el numero hay que devolverlo\n",
        "        return len(nums)\n",
        "        #si no encontramos nada significa que el numero es mayor que todos por lo tanto lo devolvemos al final\n",
        "sol = Solution()\n",
        "res = sol.searchInsert([1,3,5,6], 5)\n",
        "print(res)"
      ]
    },
    {
      "cell_type": "markdown",
      "metadata": {
        "id": "1__MFOf5BTFu"
      },
      "source": [
        "**Complejidad Big-O**\n",
        "\n",
        "La complejidad de este codigo depende en el tamano del arreglo por lo tanto es O(n)\n",
        "\n",
        "En el peor caso, recorre todos los elementos si target es mayor que todos los valores de nums.\n",
        "\n",
        "Recorre uno por uno todos los elementos del arreglo hasta encontrar el número o hasta terminar el arreglo."
      ]
    },
    {
      "cell_type": "markdown",
      "metadata": {
        "id": "dR9MvP84CA6i"
      },
      "source": [
        "**Forma optimizada**\n",
        "\n",
        "Este codigo es mas rapido ya que usa la busqueda binaria como lo vimos en la clase, pare el arreglo en dos y de ahi va buscando y haciendo comparaciones de cual es mayor y asi, es por eso que es mas efectivo y tiene mejor complejidad big(o)"
      ]
    },
    {
      "cell_type": "code",
      "execution_count": 1,
      "metadata": {
        "colab": {
          "base_uri": "https://localhost:8080/"
        },
        "id": "E2mdZLqyCAaJ",
        "outputId": "50bd637b-1bb1-4655-e59b-d42b29460ec1"
      },
      "outputs": [
        {
          "name": "stdout",
          "output_type": "stream",
          "text": [
            "2\n"
          ]
        }
      ],
      "source": [
        "from typing import List\n",
        "\n",
        "class Solution:\n",
        "    def searchInsert(self, nums: List[int], target: int) -> int:\n",
        "        left, right = 0, len(nums) - 1\n",
        "\n",
        "        while left <= right:\n",
        "            mid = (left + right) // 2\n",
        "\n",
        "            if nums[mid] == target:\n",
        "                return mid\n",
        "            elif nums[mid] < target:\n",
        "                left = mid + 1\n",
        "            else:\n",
        "                right = mid - 1\n",
        "\n",
        "        # Si no lo encontró, left será la posición donde debería insertarse\n",
        "        return left\n",
        "\n",
        "sol = Solution()\n",
        "res = sol.searchInsert([1,3,5,6], 5)\n",
        "print(res)\n"
      ]
    },
    {
      "cell_type": "markdown",
      "metadata": {
        "id": "TMqh48N4C3VZ"
      },
      "source": [
        "**Complejidad Big-O**\n",
        "\n",
        "este codigo tiene una comlejidad de O(log n)\n",
        "\n",
        "Esta versión divide el arreglo a la mitad cada vez, usando búsqueda binaria, por eso es más rápida y eficiente.\n",
        "\n",
        "O(log n) es  mejor que O(n) para arreglos grandes. Por eso, cuando el arreglo está ordenado, siempre es mejor usar búsqueda binaria.\n",
        "\n",
        "Si el arreglo tiene 1 millón de elementos, solo necesitaría revisar unas 20 veces\n",
        "\n",
        "(porque log₂(1,000,000) ≈ 20).\n"
      ]
    }
  ],
  "metadata": {
    "colab": {
      "provenance": []
    },
    "kernelspec": {
      "display_name": "Python 3",
      "name": "python3"
    },
    "language_info": {
      "name": "python"
    }
  },
  "nbformat": 4,
  "nbformat_minor": 0
}
