{
  "nbformat": 4,
  "nbformat_minor": 0,
  "metadata": {
    "colab": {
      "provenance": []
    },
    "kernelspec": {
      "name": "python3",
      "display_name": "Python 3"
    },
    "language_info": {
      "name": "python"
    }
  },
  "cells": [
    {
      "cell_type": "markdown",
      "source": [
        "**four sum**\n",
        "\n",
        "este programa es parecido al two sum pero mucho mas largo con cuatro arreglos disponibles, tuve que investigar acerca de los punteros para lograr hacerlo, nos tenemos que mover varias veces en el arreglo para encontrar todas las opciones posibles, aunque no es fuerza bruta porque no se intenta muchas veces si no se intenta una vez y de ahi se van sacando los posibles resultados\n",
        "\n",
        "pense que iba a ser mucho mas facil pero se deben hacer muchas comparaciones que no sabia, tuve que investigar pero al final le entendi bien al codigo\n",
        "\n",
        "**Forma simple:**\n"
      ],
      "metadata": {
        "id": "8e-vCUS5CwgV"
      }
    },
    {
      "cell_type": "code",
      "source": [
        "#este codigo nos pide que en base a cuatro arreglos bub=squemos que combinaciones nos dan nuestro target\n",
        "class Solution:\n",
        "    def fourSum(self, nums, target):\n",
        "        nums.sort()\n",
        "        res = []\n",
        "        n = len(nums)\n",
        "#lo primero que se me ocurrio es resolverlo como el problema de two sum, comparando los numero pero no por fuerza bruta si no algo mas optimizado\n",
        "#este codigo elige numeros y es por eso que necesitamos agarrar cuatro numeros, i,j,left y right\n",
        "        for i in range(n):\n",
        "            if i > 0 and nums[i] == nums[i - 1]:\n",
        "                continue\n",
        "            for j in range(i + 1, n):\n",
        "                if j > i + 1 and nums[j] == nums[j - 1]:\n",
        "                    continue\n",
        "        #necesitamos numero diferentes asi que ocupamos comparar los numero que tenemos, si el numero agarrado es igual al anterior este se tiene que saltar para evitar comparar los dos numeros\n",
        "                left = j + 1\n",
        "                right = n - 1\n",
        "        #aqui creamos nuestras otras dos variables para guardar los demas numeros\n",
        "                while left < right:\n",
        "                    suma = nums[i] + nums[j] + nums[left] + nums[right]\n",
        "        #necesitamos hacer otra comparacion entre left y right para no comparar el mismo numeo\n",
        "        #luego debemos hacer la suma de estos numero y guardarlos en otra variable de suma\n",
        "        #en resumen hacemos comparaciones primero para elegir nuestros numeros y que no se repitan, luego debemos sumarlos para despues ver si nos dio nuestro objetivo\n",
        "                    if suma == target:\n",
        "                        res.append([nums[i], nums[j], nums[left], nums[right]])\n",
        "                        left += 1\n",
        "                        right -= 1\n",
        "                    #aqui tenemos que agregar a nuestra lista del principio los numeros que den nuestro target para despues mostrarlos\n",
        "                    #probamos diferentes combunaciones moviendolos con +1 y -1\n",
        "                        while left < right and nums[left] == nums[left - 1]:\n",
        "                            left += 1\n",
        "                        while left < right and nums[right] == nums[right + 1]:\n",
        "                            right -= 1\n",
        "                    #estos ciclos while son para no comparar los mismos numeros y movernos a un numero diferente\n",
        "                    elif suma < target:\n",
        "                        left += 1\n",
        "                    else:\n",
        "                        right -= 1\n",
        "                    #apesar de que ya encontramos nuestro target en algunas ocaciones puede que haya otra combinacion usando ese mismo target que encontramos, es por eso que nos tenemos que seguir moviendo aveces con el mismo numero para encontrar todas las combinaciones\n",
        "\n",
        "        return res\n",
        "\n",
        "sol = Solution()\n",
        "Result = sol.fourSum([1,0,-1,0,-2,2], 0)\n",
        "print(Result)"
      ],
      "metadata": {
        "colab": {
          "base_uri": "https://localhost:8080/"
        },
        "id": "ZwcU8E2hDfDh",
        "outputId": "1d4c6aac-8e77-4c8c-8ceb-c1c370107b3d"
      },
      "execution_count": 1,
      "outputs": [
        {
          "output_type": "stream",
          "name": "stdout",
          "text": [
            "[[-2, -1, 1, 2], [-2, 0, 0, 2], [-1, 0, 0, 1]]\n"
          ]
        }
      ]
    },
    {
      "cell_type": "markdown",
      "source": [
        "**Complejidad (big-o)**\n",
        "\n",
        "este codigo es un poco mas complejo ya que hace muchas comparaciones, al no saber que combinaciones se pueden pues tenemos que elegir muchos numeros para lograrlo este codigo usa O(n^3)\n",
        "\n",
        "El algoritmo tiene dos bucles  (for i y for j), lo que da\n",
        "𝑂\n",
        "(\n",
        "𝑛\n",
        "2\n",
        ")\n",
        "y O(n\n",
        "2\n",
        " ).\n",
        "\n",
        "Luego, dentro del segundo bucle, se usa la técnica de los punteros (left y right), que en el peor caso recorre el arreglo restante linealmente, es decir,\n",
        "𝑂\n",
        "(\n",
        "𝑛\n",
        ")\n",
        "O(n).\n",
        "\n",
        "\n",
        "\n",
        "𝑂\n",
        "(\n",
        "𝑛\n",
        "2\n",
        ")\n",
        "×\n",
        "𝑂\n",
        "(\n",
        "𝑛\n",
        ")\n",
        "=\n",
        "𝑂\n",
        "(\n",
        "𝑛\n",
        "3\n",
        ")\n"
      ],
      "metadata": {
        "id": "c9eQ-D7yDs_F"
      }
    },
    {
      "cell_type": "markdown",
      "source": [
        "**Forma optimizada**\n",
        "\n",
        "esta forma se apoya de funciones como break y continue, lo que hace un poco mas rapido las cosas, no da tantas vueltas y se salta si hay algo repetible o el fin de algo, pero no cambia mucho de nuestra forma simple que pide leet code"
      ],
      "metadata": {
        "id": "ljtOYwcYF204"
      }
    },
    {
      "cell_type": "code",
      "source": [
        "class Solution:\n",
        "    def fourSum(self, nums, target):\n",
        "        nums.sort()\n",
        "        n = len(nums)\n",
        "        res = []\n",
        "\n",
        "        for i in range(n):\n",
        "            if i > 0 and nums[i] == nums[i - 1]:\n",
        "                continue\n",
        "            if i + 3 < n and nums[i] + nums[i+1] + nums[i+2] + nums[i+3] > target:\n",
        "                break\n",
        "            if i + 3 < n and nums[i] + nums[n-1] + nums[n-2] + nums[n-3] < target:\n",
        "                continue\n",
        "\n",
        "            for j in range(i + 1, n):\n",
        "                if j > i + 1 and nums[j] == nums[j - 1]:\n",
        "                    continue\n",
        "                if j + 2 < n and nums[i] + nums[j] + nums[j+1] + nums[j+2] > target:\n",
        "                    break\n",
        "                if j + 2 < n and nums[i] + nums[j] + nums[n-1] + nums[n-2] < target:\n",
        "                    continue\n",
        "\n",
        "                left = j + 1\n",
        "                right = n - 1\n",
        "\n",
        "                while left < right:\n",
        "                    suma = nums[i] + nums[j] + nums[left] + nums[right]\n",
        "                    if suma == target:\n",
        "                        res.append([nums[i], nums[j], nums[left], nums[right]])\n",
        "                        left += 1\n",
        "                        right -= 1\n",
        "                        while left < right and nums[left] == nums[left - 1]:\n",
        "                            left += 1\n",
        "                        while left < right and nums[right] == nums[right + 1]:\n",
        "                            right -= 1\n",
        "                    elif suma < target:\n",
        "                        left += 1\n",
        "                    else:\n",
        "                        right -= 1\n",
        "        return res\n",
        "\n",
        "sol = Solution()\n",
        "Result = sol.fourSum([1,0,-1,0,-2,2], 0)\n",
        "print(Result)"
      ],
      "metadata": {
        "colab": {
          "base_uri": "https://localhost:8080/"
        },
        "id": "xy-pIxE3F7Bu",
        "outputId": "06daca90-2f9d-4b1a-b489-f56c3e0b5fc5"
      },
      "execution_count": 5,
      "outputs": [
        {
          "output_type": "stream",
          "name": "stdout",
          "text": [
            "[[-2, -1, 1, 2], [-2, 0, 0, 2], [-1, 0, 0, 1]]\n"
          ]
        }
      ]
    },
    {
      "cell_type": "markdown",
      "source": [
        "**Complejidad (big-o)**\n",
        "\n",
        "este codigo tiene la misma complejidad de O(n^3), lo que cambia es mas en la practica que en la teoria, usa una funcion llamada poda temprana (early pruning) esto ayuda a evitar muchas combinaciones innecesarias. Esto hace que en la práctica sea mucho más rápido, especialmente con listas grandes y objetivos (targets) que no pueden alcanzarse fácilmente."
      ],
      "metadata": {
        "id": "4k7eXVi2G-I4"
      }
    }
  ]
}