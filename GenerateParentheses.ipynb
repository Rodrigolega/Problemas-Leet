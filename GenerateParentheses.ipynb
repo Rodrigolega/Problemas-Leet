{
  "nbformat": 4,
  "nbformat_minor": 0,
  "metadata": {
    "colab": {
      "provenance": []
    },
    "kernelspec": {
      "name": "python3",
      "display_name": "Python 3"
    },
    "language_info": {
      "name": "python"
    }
  },
  "cells": [
    {
      "cell_type": "markdown",
      "source": [
        "**Generate Parentheses**\n"
      ],
      "metadata": {
        "id": "oD9bi_QemZju"
      }
    },
    {
      "cell_type": "code",
      "source": [
        "#este programa nos pide que en base al numero que le demos nos devuelva todas las combinaciones validas de parentesis con ese numero\n",
        "from typing import List\n",
        "\n",
        "class Solution:\n",
        "    def generateParenthesis(self, n: int) -> List[str]:\n",
        "        res = []\n",
        "        #abrimos una una lista vacia para poder agragar los parentesis que le demos\n",
        "        def backtrack(current: str, open_count: int, close_count: int):\n",
        "            # invetigue acerca del backtracking ya que se requiere para este problema\n",
        "            #Backtracking es una técnica para construir soluciones paso a paso, probando todas las opciones posibles, pero retrocediendo (deshaciendo pasos) cuando una opción ya no puede llevar a una solución válida.\n",
        "            if len(current) == 2 * n:\n",
        "                res.append(current)\n",
        "                return\n",
        "\n",
        "            # Si aún podemos abrir más paréntesis, lo hacemos\n",
        "            if open_count < n:\n",
        "                backtrack(current + \"(\", open_count + 1, close_count)\n",
        "            #aqui probamos abriendo la cuenta con el parentesis( para probar las combinacines y si funciona se pasa a la siguiente prueba\n",
        "            # Solo cerramos si hay más abiertos que cerrados\n",
        "            if close_count < open_count:\n",
        "                backtrack(current + \")\", open_count, close_count + 1)\n",
        "\n",
        "        backtrack(\"\", 0, 0)\n",
        "        return res\n",
        "\n",
        "\n",
        "sol = Solution()\n",
        "Result = sol.generateParenthesis(3)\n",
        "print(Result)"
      ],
      "metadata": {
        "colab": {
          "base_uri": "https://localhost:8080/"
        },
        "id": "KWbA3ctjmwbG",
        "outputId": "01b43f7b-5dae-4507-a0f1-bcf871cf37a3"
      },
      "execution_count": 7,
      "outputs": [
        {
          "output_type": "stream",
          "name": "stdout",
          "text": [
            "['((()))', '(()())', '(())()', '()(())', '()()()']\n"
          ]
        }
      ]
    },
    {
      "cell_type": "markdown",
      "source": [
        "**complejidad big-o**\n",
        "\n",
        "este codigo gracias al backtracking que es una tecnica que va para atras y para adelante para comparar las combinaciones es eficaz y tiene un tiempo de\n",
        "O(4^n / √n)\n",
        "\n",
        "Cada combinación válida tiene longitud 2n.\n",
        "\n",
        "Hay aproximadamente O(4^n / √n) combinaciones válida\n",
        "\n",
        "Intenta poner ( si puede.\n",
        "\n",
        "Intenta poner ) solo si hay más ( que ) abiertos.\n",
        "\n",
        "Así solo genera combinaciones válidas, sin necesidad de validarlas después."
      ],
      "metadata": {
        "id": "P_cLkszlnR-m"
      }
    },
    {
      "cell_type": "markdown",
      "source": [
        "**forma optimizada**\n",
        "\n",
        "esta version de backtracking ya es muy optimizada pero se puede ahorrar un poco de tiempo escribiendolo mejor, usando generadores (yield) para ahorrar memoria mientras se recorren resultados"
      ],
      "metadata": {
        "id": "uV2l2TlXoGNQ"
      }
    },
    {
      "cell_type": "code",
      "source": [
        "class Solution:\n",
        "    def generateParenthesis(self, n: int):  # ← Aquí faltaba 'self'\n",
        "        def backtrack(current, open_count, close_count):\n",
        "            if len(current) == 2 * n:\n",
        "                yield current\n",
        "                return\n",
        "            if open_count < n:\n",
        "                yield from backtrack(current + \"(\", open_count + 1, close_count)\n",
        "            if close_count < open_count:\n",
        "                yield from backtrack(current + \")\", open_count, close_count + 1)\n",
        "\n",
        "        return list(backtrack(\"\", 0, 0))  # Convertimos el generador a lista\n",
        "\n",
        "\n",
        "# Crear instancia y ejecutar\n",
        "sol = Solution()\n",
        "result = sol.generateParenthesis(3)\n",
        "print(result)\n"
      ],
      "metadata": {
        "colab": {
          "base_uri": "https://localhost:8080/"
        },
        "id": "Hc2bPjWfomzN",
        "outputId": "68f1b2f7-dd05-471c-f5d4-1ed23a85f324"
      },
      "execution_count": 6,
      "outputs": [
        {
          "output_type": "stream",
          "name": "stdout",
          "text": [
            "['((()))', '(()())', '(())()', '()(())', '()()()']\n"
          ]
        }
      ]
    },
    {
      "cell_type": "markdown",
      "source": [
        "**complejidad:**\n",
        "\n",
        "este codigo tiene la misma cantidad de complejidad O(4^n / √n)\n",
        "Si tienes que mostrar 1000 respuestas válidas, al menos tienes que hacer 1000 pasos, por lo tanto es lo mismo en cuestion de complejidad"
      ],
      "metadata": {
        "id": "_0BDKIFhpBin"
      }
    }
  ]
}