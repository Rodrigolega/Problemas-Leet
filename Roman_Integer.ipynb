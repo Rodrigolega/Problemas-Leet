{
  "cells": [
    {
      "cell_type": "markdown",
      "metadata": {
        "id": "QlSWFTXnSWUc"
      },
      "source": [
        "**Roman to Integer**"
      ]
    },
    {
      "cell_type": "markdown",
      "metadata": {
        "id": "VixwNUFXSocu"
      },
      "source": [
        "**Forma simple:**\n",
        "\n",
        "aqui use un diccionario fue lo primero que se me ocurrio, ya que no habia tantas opciones solo tenia que hacerlo hasta 1000, se me complico mas en la fomra en la que se tenia que sumar o restar tuve que investigar, pero mi primer pensamiento fue un diccionario y de ahi comparar para saber que es que en mi codigo"
      ]
    },
    {
      "cell_type": "code",
      "execution_count": null,
      "metadata": {
        "colab": {
          "base_uri": "https://localhost:8080/"
        },
        "id": "UkhpQ73DSrOT",
        "outputId": "ab761c43-a170-4fd8-e02a-6c5074bf12be"
      },
      "outputs": [
        {
          "name": "stdout",
          "output_type": "stream",
          "text": [
            "58\n"
          ]
        }
      ],
      "source": [
        "class Solution:\n",
        "        # esta calse llama como valor a una s, esta s es la instancia que nosotros le pasamos al final osea nuestro numero romanp, de aqui en adelante usara ese numero para nuestro programa\n",
        "    def romanToInt(self, s: str) -> int:\n",
        "        # Aqui debemos usar un diccionario para guarda el valor de nuestras respectivas letras romanas, asignando el valor a cada una de ellas\n",
        "        Roman = {\n",
        "            'I': 1,\n",
        "            'V': 5,\n",
        "            'X': 10,\n",
        "            'L': 50,\n",
        "            'C': 100,\n",
        "            'D': 500,\n",
        "            'M': 1000\n",
        "        }\n",
        "\n",
        "        # necesitamos una variable para guardar los valores que arroje nuestro proograma\n",
        "        total = 0\n",
        "\n",
        "        # este ciclo for recorre nuestro numero elegido y ve el valor de s osea que longitud tiene nuestro numero romano\n",
        "        for i in range(len(s)):\n",
        "            #aqui recorremos nuestra s y la separamos y le damos un valor de 0,1,2 o mas, aqui ya podemos ver en nuestro diccionario cuanto vale cada una de las letras de nuestra s que separamos\n",
        "            valorRomano = Roman[s[i]]\n",
        "\n",
        "            # al momento de ya tener los valores debemos saber si se resta o si se suma, en los numeros romanos si el numero menor va antes que el mayor se resta y se suma si es al reves\n",
        "            # primero debemos verificar que nuestra comparacion se puede hacer, i+1 representa que la operacion puede continuar ya que si hay un numero a la derecha o no porque se sale\n",
        "            # la siguiente fila nos compara el valor anterior con el que sigue en nuestro diccionario, si nuestro primer numero se compara con el siguiente y es mas grande el programa decide si se resta o se suma\n",
        "            # agarramos la iteracion 1 o 0 o las que haya y las vamos comparando entre si, si el numero ya no tiene mas valores ahi se detiene\n",
        "            if i + 1 < len(s) and valorRomano < Roman[s[i + 1]]:\n",
        "                total -= valorRomano\n",
        "            else:\n",
        "                total += valorRomano\n",
        "\n",
        "        return total\n",
        "\n",
        "sol = Solution()\n",
        "print(sol.romanToInt(\"LVIII\"))\n",
        "#por ultimo se crea el objeto para poder llamar a la calse romantoint\n",
        "\n"
      ]
    },
    {
      "cell_type": "markdown",
      "metadata": {
        "id": "frys3tq8bwBA"
      },
      "source": [
        "¿Qué recibe?\n",
        "\n",
        "El codigo recibe una cadena s, s es el valor que le pasamos nostros, osea el numero romano\n",
        "\n",
        "¿Qué hace con lo que recibe?\n",
        "\n",
        "al recibir nuestro numero romano este se separa en iteraciones para saber el tamano y poder compararlo entre si, asignandole los valores que estan en nuestro diccionario\n",
        "\n",
        "¿Cómo toma decisiones?\n",
        "\n",
        "toma decisiones viendo cual es mayor y cual es menor para saber cual restar y cual sumar, al saber esto arroja el resultado muy facilmente\n",
        "\n",
        "¿Qué devuelve?\n",
        "\n",
        "devuelve el número entero equivalente al número romano"
      ]
    },
    {
      "cell_type": "markdown",
      "metadata": {
        "id": "71UWGnaLdZTh"
      },
      "source": [
        "**Analiza la complejidad (Big-O)**\n",
        "\n",
        "Este codigo tiene una complejidad de O(N) ya que solo usa un ciclo for y no es tan complejo, tambien usa un espacio de O(1) ya que usamos un diccionario y este no aumenta o no se mueve en tamano y es por eso que tiene esta complejidad"
      ]
    },
    {
      "cell_type": "markdown",
      "metadata": {
        "id": "tcZDjfGWeHBg"
      },
      "source": [
        "**Forma compleja:**\n",
        "\n",
        "investigue la mejor fomra de hacer este problema y solo encontre una forma en la que no se recorre el numero uno por uno como en el mio, en este se lee no mas de izquierda a derecha y asi es como se logra algo un poco mas eficaz"
      ]
    },
    {
      "cell_type": "code",
      "execution_count": 3,
      "metadata": {
        "colab": {
          "base_uri": "https://localhost:8080/"
        },
        "id": "3Iq3-R-MeqiW",
        "outputId": "66f1a362-31b4-4c7b-8147-5b10808870bf"
      },
      "outputs": [
        {
          "name": "stdout",
          "output_type": "stream",
          "text": [
            "58\n"
          ]
        }
      ],
      "source": [
        "class Solution:\n",
        "    def romanToInt(self, s: str) -> int:\n",
        "        Roman = {\n",
        "            'I': 1,\n",
        "            'V': 5,\n",
        "            'X': 10,\n",
        "            'L': 50,\n",
        "            'C': 100,\n",
        "            'D': 500,\n",
        "            'M': 1000\n",
        "        }\n",
        "\n",
        "        total = 0\n",
        "        prev_value = 0  # Guardamos el valor anterior para comparar\n",
        "\n",
        "        # Recorremos la cadena de derecha a izquierda\n",
        "        for char in reversed(s):\n",
        "            value = Roman[char]\n",
        "\n",
        "            # Si el valor actual es menor que el anterior, restamos, sino sumamos\n",
        "            if value < prev_value:\n",
        "                total -= value\n",
        "            else:\n",
        "                total += value\n",
        "\n",
        "            prev_value = value\n",
        "\n",
        "        return total\n",
        "sol = Solution()\n",
        "print(sol.romanToInt(\"LVIII\"))"
      ]
    },
    {
      "cell_type": "markdown",
      "metadata": {
        "id": "-CYbiXHnfYnr"
      },
      "source": [
        "Este tambien solo recorre una vez el string, por lo tanto tambien tiene una complejidad de O(N)"
      ]
    }
  ],
  "metadata": {
    "colab": {
      "provenance": []
    },
    "kernelspec": {
      "display_name": "Python 3",
      "name": "python3"
    },
    "language_info": {
      "name": "python"
    }
  },
  "nbformat": 4,
  "nbformat_minor": 0
}
