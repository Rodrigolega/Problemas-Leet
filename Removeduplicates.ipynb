{
  "cells": [
    {
      "cell_type": "markdown",
      "metadata": {
        "id": "1f6fhLD_SD1L"
      },
      "source": [
        "**Remove duplicates**\n",
        "\n",
        "este programa no es complicado pero si pide cosas que me dificultaron las cosas, por ejemplo todo tenia que ser en un mismo arreglo in-place y a mi solo se me ocurria eliminar datos y pues asi poder tener otra lista ya limpia pero investigue y la mejor manera de hacerlo solo es sobreescribiendo datos, lo eliminandolos, comparar y si un numero es igual solo se salta hasta qeu llegue a uno diferente y se pueda escribir"
      ]
    },
    {
      "cell_type": "code",
      "execution_count": null,
      "metadata": {
        "id": "mUCYj76DSCfO"
      },
      "outputs": [],
      "source": [
        "#este problema nos pide eliminar duplicados de un arreglo pero sin afectar el orden del arreglo\n",
        "#este arreglo nos tiene que dar el resultado de cuantos numeros fueron eliminados y el arreglo restante\n",
        "\n",
        "class Solution:\n",
        "    def removeDuplicates(self, nums:int) -> int:\n",
        "        if not nums:\n",
        "            return 0\n",
        "        #si en la lista de nums no hay numero devolvemos 0\n",
        "        i = 0\n",
        "        #hay que iniciar un contador para recorrer el arreglo y ver cuales son iguales\n",
        "        # Recorremos el arreglo desde la segunda posición (índice 1)\n",
        "        for j in range(1, len(nums)):\n",
        "            # Si el número actual es diferente al último número único guardado\n",
        "            if nums[j] != nums[i]:\n",
        "                # Avanzamos 'i' porque encontramos un nuevo número único\n",
        "                i += 1\n",
        "                # Guardamos ese nuevo número en la posición 'i'\n",
        "                nums[i] = nums[j]\n",
        "                #aqui se mueven los datos en el mismo arreglo y se agregan a su nueva posicion\n",
        "                #si hay un numero repetido el algoritmo lo salta y si hay un numero diferente lo sobrescribe para tener solo los diferentes\n",
        "        return i + 1\n",
        "nums = [0,0,1,1,1,2,2,3,3,4]\n",
        "sol = Solution()\n",
        "k = sol.removeDuplicates(nums)\n",
        "print(k)\n",
        "print(nums[:k])\n"
      ]
    },
    {
      "cell_type": "markdown",
      "metadata": {
        "id": "DjvmHo79TIVn"
      },
      "source": [
        "**Complejidad Big-(0)**\n",
        "\n",
        "El bucle for recorre el arreglo una sola vez hasta el final.\n",
        "\n",
        "Cada comparación nums[j] != nums[i] y cada asignación nums[i] = nums[j] toma tiempo constante (O(1)). lo que quiere decir que dependiendo del arreglo este aumentara, si es un arreglo con muchos datos tardara mucho porque compara cada uno de los numeros\n",
        "\n",
        "En el peor caso (todos los elementos son únicos), recorremos todo el arreglo sin saltarnos ningún elemento y tomara bastante tiempo comparar cada uno.\n",
        "\n",
        "la complejidad de este codigo es de O(n)\n"
      ]
    },
    {
      "cell_type": "markdown",
      "metadata": {
        "id": "UmHvRRGlUEAv"
      },
      "source": [
        "**Version optimizada**\n",
        "\n",
        "esta version solo reduce y acomoda mejor las cosas, a comparacion del mio usa mejor las listas y asi, No hay una versión más rápida o que use menos espacio para el problema tal cual está planteado.\n",
        "\n"
      ]
    },
    {
      "cell_type": "code",
      "execution_count": 1,
      "metadata": {
        "colab": {
          "base_uri": "https://localhost:8080/"
        },
        "id": "fnrgCrUtUJwO",
        "outputId": "efa84c30-0588-400b-d293-e4979284f337"
      },
      "outputs": [
        {
          "name": "stdout",
          "output_type": "stream",
          "text": [
            "5\n",
            "[0, 1, 2, 3, 4]\n"
          ]
        }
      ],
      "source": [
        "from typing import List\n",
        "\n",
        "class Solution:\n",
        "    def removeDuplicates(self, nums: List[int]) -> int:\n",
        "        if not nums:\n",
        "            return 0\n",
        "\n",
        "        i = 0  # índice del último elemento único\n",
        "\n",
        "        for j in range(1, len(nums)):\n",
        "            if nums[j] != nums[i]:\n",
        "                i += 1\n",
        "                nums[i] = nums[j]\n",
        "\n",
        "        return i + 1\n",
        "nums = [0,0,1,1,1,2,2,3,3,4]\n",
        "sol = Solution()\n",
        "k = sol.removeDuplicates(nums)\n",
        "print(k)\n",
        "print(nums[:k])"
      ]
    },
    {
      "cell_type": "markdown",
      "metadata": {
        "id": "ANCAo6_1VKH5"
      },
      "source": [
        "**Complejidad Big-(0)**\n",
        "\n",
        "Este problema tambien tiene O(n), no se puede hacer mas eficaz en este caso solo mas limpio.\n"
      ]
    }
  ],
  "metadata": {
    "colab": {
      "provenance": []
    },
    "kernelspec": {
      "display_name": "Python 3",
      "name": "python3"
    },
    "language_info": {
      "name": "python"
    }
  },
  "nbformat": 4,
  "nbformat_minor": 0
}
