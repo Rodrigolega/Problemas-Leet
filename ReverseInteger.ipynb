{
  "cells": [
    {
      "cell_type": "markdown",
      "metadata": {
        "id": "myTyuukBTNel"
      },
      "source": [
        "**Reverse integer**\n",
        "\n",
        "este programa se me hizo mas sencillo que los demas porque solo consistia en voltear el numero y ver si se pasaba o no del rango elegido"
      ]
    },
    {
      "cell_type": "code",
      "execution_count": 2,
      "metadata": {
        "colab": {
          "base_uri": "https://localhost:8080/"
        },
        "id": "K-1-HxjcHytL",
        "outputId": "c76fa32b-6787-4111-c670-a69c4ce2c561"
      },
      "outputs": [
        {
          "name": "stdout",
          "output_type": "stream",
          "text": [
            "-321\n"
          ]
        }
      ],
      "source": [
        "#este codigo fue sencillo de resolver lo complicado fue hacer todo lo que pide leet code que es que tiene que ser en un rango determinado de 32-bit si se sale de eso debemos retornar 0\n",
        "class Solution:\n",
        "   #lo primero que se me vino a la mente fue la funcion de poner al reves los strings con -1 pero obvio no funciona con un numero entero asi qeu lo debemos de convertir a string primero\n",
        "    def reverse(self, x: int) -> int:\n",
        "    #si nos dan un numero negativo debemos hacerlo positivo primero porque el simbolo negativo lo requiere al principio, asi que lo quitamos y despues lo ponemos si es que tiene\n",
        "        pos = str(abs(x))\n",
        "        #aqui mismo lo convertimos a string\n",
        "        rev = pos[::-1]\n",
        "        #aqui volteamos ese string\n",
        "        num = int(rev)\n",
        "        #aqui lo transformamos otra vez a entero\n",
        "        if x < 0:\n",
        "            num = -num\n",
        "        #aqui vemo si el numero era negativo y le devolvemos su valor negativo\n",
        "        if num < -2**31 or num > 2**31 - 1:\n",
        "            return 0\n",
        "        #aqui checamos el rango, si se pasa de ese rango devolveos 0\n",
        "        else:\n",
        "            return num\n",
        "\n",
        "sol = Solution()\n",
        "resul = sol.reverse(-123)\n",
        "print(resul)"
      ]
    },
    {
      "cell_type": "markdown",
      "metadata": {
        "id": "FrqJflLCTz2l"
      },
      "source": [
        "**Complejidad Big-O**\n",
        "\n",
        "Este programa lo investigue y descubri que como le pasamos un valor x no una lista o algo por el estilo es notacion O(d) que es lo mismo que O(n) pero d representa la cantidad de dígitos del número, y la n representa el tamaño del arreglo, cadena, o lo que sea.\n",
        "\n",
        "este programa es proporcional al numero que se le de, al convertir a un string o ponerlo al reves tarda algo y depende mucho del numero que se le de.\n",
        "\n",
        "Convertir el número a string toma tiempo proporcional a la cantidad de dígitos (O(d)).\n",
        "\n",
        "Hacer el slicing para invertir el string también es O(d).\n",
        "\n",
        "Convertir el string invertido de nuevo a entero es O(d).\n",
        "\n",
        "Las demás operaciones (comparaciones, condicionales) son O(1).\n",
        "\n",
        "\n"
      ]
    },
    {
      "cell_type": "markdown",
      "metadata": {
        "id": "HYJe6rR2Vj_w"
      },
      "source": [
        "**Forma optimizada**\n",
        "\n",
        "este codigo no convierte el número a string (menos memoria y operaciones).\n",
        "\n",
        "Solo usa operaciones matemáticas básicas (mod y división).\n",
        "\n",
        "Detecta overflow sin hacer conversiones."
      ]
    },
    {
      "cell_type": "code",
      "execution_count": 1,
      "metadata": {
        "colab": {
          "base_uri": "https://localhost:8080/"
        },
        "id": "4jDDSFA7Vivi",
        "outputId": "ca2ae17f-9321-4d53-87d9-14737283cfeb"
      },
      "outputs": [
        {
          "name": "stdout",
          "output_type": "stream",
          "text": [
            "-321\n"
          ]
        }
      ],
      "source": [
        "class Solution:\n",
        "    def reverse(self, x: int) -> int:\n",
        "        INT_MIN, INT_MAX = -2**31, 2**31 - 1\n",
        "        result = 0\n",
        "        sign = -1 if x < 0 else 1\n",
        "        x = abs(x)\n",
        "\n",
        "        while x != 0:\n",
        "            pop = x % 10  # extrae el último dígito\n",
        "            x //= 10      # reduce el número removiendo el último dígito\n",
        "\n",
        "            # Checa overflow antes de agregar el dígito\n",
        "            if result > (INT_MAX - pop) // 10:\n",
        "                return 0\n",
        "\n",
        "            result = result * 10 + pop\n",
        "\n",
        "        return sign * result\n",
        "sol = Solution()\n",
        "resul = sol.reverse(-123)\n",
        "print(resul)"
      ]
    },
    {
      "cell_type": "markdown",
      "metadata": {
        "id": "p37EjZQsWXJX"
      },
      "source": [
        "**Complejidad Big-O**\n",
        "este codigo tambien usa la misma complejidad que el pasado solo se salta algunos pasos comparado al mio, este codigo no convierte a string ni hace cosas inecesarias\n",
        "\n",
        "Solo usa variables numéricas simples y hace operaciones aritméticas (módulo, división, multiplicación, suma). No crea cadenas ni copias grandes en memoria, solo variables enteras simples.\n",
        "\n",
        "En el método matemático puedes controlar directamente cuándo parar (cuando x == 0), y puedes hacer cheques intermedios para evitar overflow (como verificar si el resultado se sale del rango 32-bit) antes de completar el proceso."
      ]
    }
  ],
  "metadata": {
    "colab": {
      "provenance": []
    },
    "kernelspec": {
      "display_name": "Python 3",
      "name": "python3"
    },
    "language_info": {
      "name": "python"
    }
  },
  "nbformat": 4,
  "nbformat_minor": 0
}
