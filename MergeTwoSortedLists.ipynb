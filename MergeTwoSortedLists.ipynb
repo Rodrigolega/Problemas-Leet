{
  "cells": [
    {
      "cell_type": "markdown",
      "metadata": {
        "id": "_APXRfQ39JB0"
      },
      "source": [
        "**Merge Two Sorted Lists**\n",
        "\n",
        "Forma basica:\n"
      ]
    },
    {
      "cell_type": "code",
      "execution_count": 4,
      "metadata": {
        "colab": {
          "base_uri": "https://localhost:8080/"
        },
        "id": "_bjbY04pI-OV",
        "outputId": "88bfa3c6-56b8-4f77-ca9a-0b4d7f18deac"
      },
      "outputs": [
        {
          "name": "stdout",
          "output_type": "stream",
          "text": [
            "[1, 1, 2, 3, 4, 4]\n"
          ]
        }
      ],
      "source": [
        "#al principio no entendi que queria leetcode y solo hice que dos listas se fusionaran, esta mal la verdad pero si da el resultado esperado y es una forma super simpple\n",
        "class Solution:\n",
        "\n",
        "    def mergeTwoLists(self, list1, list2) ->list:\n",
        "        mergedList = sorted(list1 + list2)\n",
        "      #aqui no mas ordeno las dos listas y las junto\n",
        "        return mergedList\n",
        "\n",
        "\n",
        "sol = Solution()\n",
        "result = sol.mergeTwoLists([1, 2, 4], [1, 3, 4])\n",
        "print(result)\n",
        "\n",
        "#esta opcion fue lo primero que se me ocurrio, luego investigue y entendi que queria leet code pero esto fue la forma mas sencilla que encontre\n",
        "\n",
        "\n",
        "\n",
        "\n",
        "\n",
        "\n"
      ]
    },
    {
      "cell_type": "markdown",
      "metadata": {
        "id": "-HGfSxBuJfL2"
      },
      "source": [
        "Esta forma tiene complejidad de o(n) porque no usa ningun ciclo for asi que no tarda mucho"
      ]
    },
    {
      "cell_type": "markdown",
      "metadata": {
        "id": "IZ6m2HmrJup0"
      },
      "source": [
        "**Forma compleja:**\n"
      ]
    },
    {
      "cell_type": "code",
      "execution_count": null,
      "metadata": {
        "colab": {
          "base_uri": "https://localhost:8080/"
        },
        "id": "9_ZZ1fh_J0A3",
        "outputId": "d537b2f1-fe36-4443-de84-ca9f368fa549"
      },
      "outputs": [
        {
          "name": "stdout",
          "output_type": "stream",
          "text": [
            "Lista fusionada:\n",
            "1 -> 2 -> 3 -> 4 -> 5 -> 6 -> None\n"
          ]
        }
      ],
      "source": [
        "#leet code nos pide que usemos listas enlazada, una lista enlazada tiene nodos, estos nodos son los valores de las listas\n",
        "#mientras tu estas en un nodo siempre se ve al siguiente nodo, esto sirve para eliminar o insertar facilmente datos\n",
        "\n",
        "class ListNode:\n",
        "    def __init__(self, val=0, next=None):\n",
        "        self.val = val\n",
        "        self.next = next\n",
        "#esto nos lo da leet code, quiere que tenga el valor del nodo el que vamos a guardar y el siguiente numero que esta en la lista\n",
        "\n",
        "class Solution:\n",
        "    def mergeTwoLists(self, list1: ListNode, list2: ListNode) -> ListNode:\n",
        "        #aqui se reciben dos listas enlazadas ordenada, y da como resultado una lista tambien ordenada\n",
        "        dummy = ListNode()\n",
        "        current = dummy\n",
        "        #aqui se crea un dummy, esto para ir agregando los valores a nuestra lista nueva, current ees donde esta el dummy y que numero se agregara\n",
        "\n",
        "        while list1 and list2:\n",
        "          #este ciclo while sirve para aclarar que solo compararemos datos mientras tengamos\n",
        "            if list1.val < list2.val:\n",
        "                current.next = list1\n",
        "                list1 = list1.next\n",
        "                #aqui se comparan los datos de las listas, si el de la lista es menor que el de la lista 2 este sigue y se usa\n",
        "            else:\n",
        "                current.next = list2\n",
        "                list2 = list2.next\n",
        "            current = current.next\n",
        "                #si el primer valor no es menor que el segundo se ejecuta el else, osea que vamos a guardar el segundo valor en nuestra lista creada para qeu asi este ordenada\n",
        "        if list1:\n",
        "            current.next = list1\n",
        "        elif list2:\n",
        "            current.next = list2\n",
        "\n",
        "        return dummy.next\n",
        "#como son listas enlazadas no podemos solo imprimir los valores, tenemos que imprimir nodo por nodo asi que se transforma las listas normales que pasemos a listas enlazadas\n",
        "        # Función para convertir lista normal a lista enlazada\n",
        "def to_linked_list(lst):\n",
        "    dummy = ListNode()\n",
        "    current = dummy\n",
        "    for val in lst:\n",
        "        current.next = ListNode(val)\n",
        "        current = current.next\n",
        "    return dummy.next\n",
        "    #esta funcion crea una lista enlazada apartir de una lista normal para poder imprimirla\n",
        "\n",
        "# Función para imprimir la lista enlazada\n",
        "def print_linked_list(head):\n",
        "    while head:\n",
        "        print(head.val, end=\" -> \")\n",
        "        head = head.next\n",
        "    print(\"None\")\n",
        "\n",
        "# Crear las listas enlazadas a partir de listas normales\n",
        "l1 = to_linked_list([1, 3, 5])\n",
        "l2 = to_linked_list([2, 4, 6])\n",
        "\n",
        "sol = Solution()\n",
        "merged = sol.mergeTwoLists(l1, l2)\n",
        "\n",
        "print(\"Lista fusionada:\")\n",
        "print_linked_list(merged)\n",
        "\n"
      ]
    },
    {
      "cell_type": "markdown",
      "metadata": {
        "id": "egiYmOR5PIoK"
      },
      "source": [
        "**complejidad:**\n",
        "\n",
        "La complejidad de este programa es O(n + m) porque el programa recorre cada elemento de las dos listas una sola vez para convertirlas, fusionarlas y luego imprimirlas. No hace pasos extra ni bucles anidados, así que el tiempo crece proporcionalmente al tamaño total de las listas.\n",
        "\n",
        "n es la longitud de la primera lista y m la de la segunda lista, no tiene ciclos for ni es compleja, solo tarda lo que tarda en recorrer esas dos listas\n",
        "\n"
      ]
    },
    {
      "cell_type": "markdown",
      "metadata": {
        "id": "v48jJAIDPlA7"
      },
      "source": [
        "La segunda forma es una forma muy eficiente y correcta de hacer este programa, en mi version sencilla la verdad no supe como implementar las listas enlazadas pero la investigue y supe como implementarla al final, vimos en el curso lo que era una lista enlazada pero nunca me imagine lo complicado que iba a ser implementar esta, yo se que mi forma fue incorrecta pero pues la deje ahi"
      ]
    }
  ],
  "metadata": {
    "colab": {
      "provenance": []
    },
    "kernelspec": {
      "display_name": "Python 3",
      "name": "python3"
    },
    "language_info": {
      "name": "python"
    }
  },
  "nbformat": 4,
  "nbformat_minor": 0
}
