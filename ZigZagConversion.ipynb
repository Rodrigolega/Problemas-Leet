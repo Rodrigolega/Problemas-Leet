{
  "cells": [
    {
      "cell_type": "markdown",
      "metadata": {
        "id": "I-F-_v3GxyTW"
      },
      "source": [
        "**Zig Zag convertion**\n",
        "\n",
        "este programa nos pide que digamos cuantos renglones tiene una palabra en el patron de zig zag, mi forma simple no esta optimizada para todos los casos pero mas adelante hago una que funciona para todos los casos.\n",
        "\n",
        "**forma simple:**"
      ]
    },
    {
      "cell_type": "code",
      "execution_count": null,
      "metadata": {
        "id": "-AokterByOy6"
      },
      "outputs": [],
      "source": [
        "#leet code aqui nos pide que le devolvamos cuantos renglones tiene una palabra en formato de zig zag\n",
        "#se me complico un tanto la logica pero logre hacer un codigo basico a este problema pero no funciona para todos los casos\n",
        "class Solution:\n",
        "    def convert(self, s: str, numRows: int) -> str:\n",
        "        Rows = [\"\"] * numRows\n",
        "        actualRow = 0\n",
        "        direction = 1\n",
        "        #primero debemos de crear las variables, estas son muy importantes ya que el problema del zig zag requiere moverse mucho entre los renglones\n",
        "        #necesitamos saber en que direccion y en que renglon esta nuestro programa\n",
        "\n",
        "        for letter in s:\n",
        "        #aqui iniciamos un ciclo for ya que tenemos que recorrer la palabra para saber pues cuantos renglones tiene\n",
        "            Rows[actualRow] += letter\n",
        "            #aqui agregamos las letras con forme vayan saliendo en nuestros renglones, si en nuestro renglon actual tenemos una letra se va a agregar a esa lista de rows\n",
        "            if actualRow == numRows -1:\n",
        "                direction = -1\n",
        "            elif actualRow == 0:\n",
        "                direction= 1\n",
        "            #aqui vemos si tenemos que ir para arriba o para abajo, si nuestro renglon actual esta por debajo del numero de nuestros renglones esta ira hacia abajo, y lo mismo con el 1\n",
        "            actualRow += direction\n",
        "\n",
        "        resultado = \"\"\n",
        "        for fila in Rows:\n",
        "            resultado += fila\n",
        "        return resultado\n",
        "        #al final necesitamos juntar todos nuestros diferentes renglones, para eso es este otro ciclo for\n",
        "        #tenemos una lista vacia de resultados y en nuestro ciclo de renglones ya tenemos el resultado guardado asi que aqui solo juntamos esas listas para que nos de el resultado completo\n",
        "\n",
        "\n",
        "Sol = Solution()\n",
        "result = Sol.convert(\"PAHNAPLSIIGYIR\", 3)\n",
        "print(result)\n"
      ]
    },
    {
      "cell_type": "markdown",
      "metadata": {
        "id": "XEfU4qsUyfDq"
      },
      "source": [
        "**complejidad Big-O**\n",
        "\n",
        "este ejemplo en especifico no es tan complejo, ya que se usan ciclos cortos y un numero por ejemplo 3 no tan grande.\n",
        "\n",
        "O(n)+O(numRows)≈O(n)+O(1)=O(n)\n",
        "\n",
        "este codigo tiene una complejidad de O(N)\n",
        "\n",
        "Recorrer la palabra y poner cada letra en su renglón toma un tiempo que crece igual que la longitud de la palabra.\n",
        "\n",
        "Unir todos los renglones también toma tiempo proporcional a la cantidad total de letras.\n",
        "\n",
        "en resumen la palabra o los renglones dados puede variar la complejidad"
      ]
    },
    {
      "cell_type": "markdown",
      "metadata": {
        "id": "7o0SK2hezpaz"
      },
      "source": [
        "**Forma optimizada:**\n"
      ]
    },
    {
      "cell_type": "code",
      "execution_count": null,
      "metadata": {
        "id": "dNgo09V505o_"
      },
      "outputs": [],
      "source": [
        "class Solution:\n",
        "    def convert(self, s: str, numRows: int) -> str:\n",
        "        if numRows == 1 or numRows >= len(s):\n",
        "            return s\n",
        "#esta primera parte sirve para ver si la palabra puede hacer zig zag, si no el codigo directamente devuelve la palabra normal\n",
        "\n",
        "        Rows = [\"\" for _ in range(numRows)]  # a diferencia de mi codigo este crea listas independientes lo cual funciona en todos los casos a diferencia del mio\n",
        "\n",
        "        actualRow = 0\n",
        "        direction = 1\n",
        "        for letter in s:\n",
        "            Rows[actualRow] += letter\n",
        "            if actualRow == 0:\n",
        "                direction = 1\n",
        "            elif actualRow == numRows - 1:\n",
        "                direction = -1\n",
        "\n",
        "            actualRow += direction\n",
        "\n",
        "        return \"\".join(Rows)\n",
        "#la ultima diferencia es que para juntar los renglones usa una funcion y no otro ciclo for\n",
        "Sol = Solution()\n",
        "print(Sol.convert(\"PAHNAPLSIIGYIR\", 3))\n"
      ]
    },
    {
      "cell_type": "markdown",
      "metadata": {
        "id": "s5-mgCUc1pQL"
      },
      "source": [
        "**complejidad Big-O**\n",
        "\n",
        "Tiempo: O(n), donde n es la longitud de la cadena s.\n",
        "\n",
        "Espacio: O(n), porque se almacenan todas las letras en las filas, que en total suman n caracteres.\n",
        "\n",
        "El programa es lineal en tiempo y espacio respecto a la longitud de la palabra porque solo procesa cada letra una vez y guarda todas las letras en las filas para luego unirlas. Esto es eficiente para cualquier tamaño de entrada.\n",
        "\n",
        "este programa no depende del tamano para ser eficiente"
      ]
    }
  ],
  "metadata": {
    "colab": {
      "provenance": []
    },
    "kernelspec": {
      "display_name": "Python 3",
      "name": "python3"
    },
    "language_info": {
      "name": "python"
    }
  },
  "nbformat": 4,
  "nbformat_minor": 0
}
