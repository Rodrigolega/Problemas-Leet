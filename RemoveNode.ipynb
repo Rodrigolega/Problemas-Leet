{
  "cells": [
    {
      "cell_type": "markdown",
      "metadata": {
        "id": "IoWui3rXlluo"
      },
      "source": [
        " **Remove Nth Node From End of List**\n",
        "\n",
        " Este programa fue muy dificil para mi porque a pesar de saber la logica de las listas enlazadas pues no me esperaba que python no tuviera de forma nativa estas listas enlazadas asi que se deben de crear, al intentar usarlas y se que por ejemplo usan punteros para recorrer el arreglo y de ahi es facil moverte y poder borrar los nodos de una forma sencilla aqui en python se deben transformar las listas normales a listas enlazadas asi qeu tuve que investigar basntante para poder hacer lo que tenia en mente, lo logre pero mentiria si dijera que lo de la lista enlazada lo hice solo\n",
        "\n",
        " **Forma simple:**"
      ]
    },
    {
      "cell_type": "code",
      "execution_count": null,
      "metadata": {
        "id": "X7fsPWMZlaCX"
      },
      "outputs": [],
      "source": [
        "# Este programa nos pide usar listas enlazadas, como las que vimos en clase.\n",
        "# Una lista enlazada requiere tener dos punteros: uno en el nodo actual y otro al siguiente nodo (next).\n",
        "# Esto, como vimos en clase, nos ayuda a eliminar datos de forma más sencilla que con arreglos normales.\n",
        "# Lo que se me ocurre es recorrer todo el arreglo de forma rápida para saber su tamaño,\n",
        "# y luego ya buscar cuál nodo queremos eliminar desde el final.\n",
        "# El problema es que el código recibe la cabeza de la lista (head), o sea que debemos eliminar contando desde el final.\n",
        "# Por eso usamos dos punteros: para encontrar el nodo a eliminar sin tener que calcular el tamaño exacto primero.\n",
        "\n",
        "class ListNode:\n",
        "    def __init__(self, val=0, next=None):\n",
        "        self.val = val\n",
        "        self.next = next\n",
        "# Esta clase nos la da LeetCode. Sirve para representar nodos en una lista enlazada.\n",
        "# Cada nodo tiene un valor y una referencia al siguiente (next).\n",
        "\n",
        "class Solution:\n",
        "    def removeNthFromEnd(self, head: ListNode, n: int) -> ListNode:\n",
        "        # Debemos crear un nodo \"ancla\" (dum) para ubicarnos al inicio de la lista.\n",
        "        # Esto es útil por si el nodo a eliminar es el primero (head).\n",
        "        dum = ListNode(0)\n",
        "        dum.next = head\n",
        "        # dum sirve como ancla al inicio. Gracias a este nodo podemos eliminar el head fácilmente si es necesario.\n",
        "        # Los punteros que se moverán para recorrer la lista son fast y slow.\n",
        "        fast = dum\n",
        "        slow = dum\n",
        "\n",
        "        for _ in range(n + 1):\n",
        "            fast = fast.next\n",
        "        # Hacemos que fast avance n + 1 pasos para que quede una distancia de n nodos entre fast y slow.\n",
        "\n",
        "        # Movemos ambos punteros hasta que fast llegue al final.\n",
        "        while fast:\n",
        "            fast = fast.next\n",
        "            slow = slow.next\n",
        "\n",
        "        # slow.next es el nodo a eliminar, así que lo \"saltamos\".\n",
        "        slow.next = slow.next.next\n",
        "\n",
        "        # Retornamos la lista desde dum.next (porque dum solo era el nodo ancla).\n",
        "        return dum.next\n",
        "        # dum solo nos regresa al inicio de la lista para no perder la referencia al principio.\n",
        "        # fast se adelanta n + 1 pasos para crear una distancia con slow.\n",
        "        # luego ambos (fast y slow) se mueven juntos hasta que fast llega al final.\n",
        "        # en ese momento, slow queda justo antes del nodo que queremos borrar.\n",
        "        # con slow.next = slow.next.next eliminamos ese nodo.\n",
        "        # al final, devolvemos dum.next que es la cabeza de la lista modificada.\n",
        "\n",
        "def build_linked_list(values):\n",
        "    dummy = ListNode(0)  # Creamos un nodo ancla que nos ayuda a construir la lista sin complicaciones.\n",
        "    current = dummy      # Usamos current para movernos y agregar nodos al final de la lista.\n",
        "\n",
        "    for val in values:   # Recorremos cada valor del arreglo dado.\n",
        "        current.next = ListNode(val)  # Creamos un nuevo nodo con el valor actual y lo enlazamos al nodo current.\n",
        "        current = current.next        # Movemos 'current' al nodo recién creado para poder seguir agregando.\n",
        "\n",
        "    return dummy.next  # Regresamos la cabeza real de la lista enlazada, que está después del nodo ancla.\n",
        "\n",
        "\n",
        "\n",
        "def print_linked_list(node):\n",
        "    while node:\n",
        "        print(node.val, end=\" -> \")\n",
        "        node = node.next\n",
        "    print(\"None\")\n",
        "\n",
        "\n",
        "sol = Solution()\n",
        "head = build_linked_list([1, 2, 3, 4, 5])\n",
        "merged = sol.removeNthFromEnd(head, 2)\n",
        "print_linked_list(merged)\n"
      ]
    },
    {
      "cell_type": "markdown",
      "metadata": {
        "id": "kRZRIxRnmYHw"
      },
      "source": [
        "**complejidad Big-O**\n",
        "\n",
        "este programa usa varias funciones para recorrer el arreglo una y otra vez.\n",
        "\n",
        "Construcción de la lista enlazada (build_linked_list)\n",
        "Tiempo: O(n) — Recorre todos los elementos del arreglo para crear nodos.\n",
        "\n",
        "Eliminación del nodo con dos punteros (removeNthFromEnd)\n",
        "\n",
        "El ciclo for avanza n + 1 pasos (constante respecto a n).\n",
        "\n",
        "El while recorre el resto de la lista hasta el final, en total visitando cada nodo máximo una vez.\n",
        "\n",
        "Impresión de la lista enlazada (print_linked_list)\n",
        "Tiempo: O(n) — Recorre todos los nodos para imprimirlos.\n",
        "\n",
        "este programa es proporcional al tamano del arreglo asi que dependera de eso para el tiempo que tarde, pero no es muy complejo ya que hace muchas cosas pero solo una vez"
      ]
    },
    {
      "cell_type": "markdown",
      "metadata": {
        "id": "Nge9HBs6oeyW"
      },
      "source": [
        "**Forma optimizada:**\n",
        "\n",
        "esta versión es más eficiente porque hace menos operaciones extra, tiene lógica más directa y aprovecha mejor la estructura de lista enlazada con dos punteros y dummy, lo que permite recorrer la lista solo una vez para eliminar el nodo sin pasos adicionales. Esto se traduce en menor tiempo de ejecución y menor complejidad de mantenimiento."
      ]
    },
    {
      "cell_type": "code",
      "execution_count": 1,
      "metadata": {
        "colab": {
          "base_uri": "https://localhost:8080/"
        },
        "id": "2CsCmHhXoVJd",
        "outputId": "792e3769-f937-4045-d635-60fa9a3cc230"
      },
      "outputs": [
        {
          "name": "stdout",
          "output_type": "stream",
          "text": [
            "1 -> 2 -> 3 -> 5 -> None\n"
          ]
        }
      ],
      "source": [
        "class ListNode:\n",
        "    def __init__(self, val=0, next=None):\n",
        "        self.val = val\n",
        "        self.next = next\n",
        "\n",
        "def build_linked_list(values):\n",
        "    dummy = ListNode(0)\n",
        "    current = dummy\n",
        "    for val in values:\n",
        "        current.next = ListNode(val)\n",
        "        current = current.next\n",
        "    return dummy.next\n",
        "\n",
        "def print_linked_list(node):\n",
        "    while node:\n",
        "        print(node.val, end=\" -> \")\n",
        "        node = node.next\n",
        "    print(\"None\")\n",
        "\n",
        "class Solution:\n",
        "    def removeNthFromEnd(self, head: ListNode, n: int) -> ListNode:\n",
        "        dummy = ListNode(0)\n",
        "        dummy.next = head\n",
        "        fast = slow = dummy\n",
        "\n",
        "        for _ in range(n + 1):\n",
        "            fast = fast.next\n",
        "\n",
        "        while fast:\n",
        "            fast = fast.next\n",
        "            slow = slow.next\n",
        "\n",
        "        slow.next = slow.next.next\n",
        "        return dummy.next\n",
        "\n",
        "head = build_linked_list([1,2,3,4,5])\n",
        "sol = Solution()\n",
        "result = sol.removeNthFromEnd(head, 2)\n",
        "print_linked_list(result)\n"
      ]
    },
    {
      "cell_type": "markdown",
      "metadata": {
        "id": "XbV7JwMoooJ9"
      },
      "source": [
        "**complejidad Big-O**\n",
        "\n",
        " O(n)\n",
        "\n",
        "Construir la lista enlazada desde un arreglo toma O(n), donde n es el número de elementos.\n",
        "\n",
        "El método removeNthFromEnd recorre la lista una vez con dos punteros (fast y slow), también O(n).\n",
        "\n",
        "Imprimir la lista enlazada es otro recorrido O(n).\n",
        "\n",
        "Como estos pasos se hacen uno tras otro, la complejidad total sigue siendo O(n)"
      ]
    }
  ],
  "metadata": {
    "colab": {
      "provenance": []
    },
    "kernelspec": {
      "display_name": "Python 3",
      "name": "python3"
    },
    "language_info": {
      "name": "python"
    }
  },
  "nbformat": 4,
  "nbformat_minor": 0
}
