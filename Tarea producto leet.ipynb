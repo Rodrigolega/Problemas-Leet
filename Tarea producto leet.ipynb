{
  "cells": [
    {
      "cell_type": "markdown",
      "metadata": {
        "id": "q1c6Vm8SyUu_"
      },
      "source": [
        "Tarea Two Product\n",
        "Dar un arreglo de numeros cuyo producto sea el target, realizar ambas soluciones con fuerza brtua y con hash map\n"
      ]
    },
    {
      "cell_type": "markdown",
      "metadata": {
        "id": "V63Gdiyqbu0X"
      },
      "source": [
        "Fuerza bruta con multiplicacion"
      ]
    },
    {
      "cell_type": "code",
      "execution_count": 1,
      "metadata": {
        "colab": {
          "base_uri": "https://localhost:8080/"
        },
        "id": "TyyiiTmbbPFv",
        "outputId": "ccaafe4a-cbc4-4883-ad64-600047b673a8"
      },
      "outputs": [
        {
          "name": "stdout",
          "output_type": "stream",
          "text": [
            "Índices encontrados: [0, 1]\n"
          ]
        }
      ],
      "source": [
        "class Solution:\n",
        "    def twoMult(self, nums, target):\n",
        "        for i in range(len(nums)):\n",
        "            for j in range(i + 1, len(nums)):\n",
        "                if nums[i] * nums[j] == target:\n",
        "                    return [i, j]\n",
        "        return None\n",
        "\n",
        "sol = Solution()\n",
        "\n",
        "arreglo = [2, 7, 11, 15]\n",
        "target = 14\n",
        "\n",
        "resultado = sol.twoMult(arreglo, target)\n",
        "\n",
        "if resultado:\n",
        "    print(f\"Índices encontrados: {resultado}\")\n",
        "else:\n",
        "    print(\"No se encontró una pareja que Multiplique el target.\")"
      ]
    },
    {
      "cell_type": "markdown",
      "metadata": {
        "id": "MYGkZ5iddIta"
      },
      "source": [
        "Lo que hice en este programa fue que se recorre el arreglo con fuerza bruta usando dos ciclos for, uno es el numero inicial y el otro ciclo recorre el arreglo, si ve que dos numeros multiplicados del arreglo dan el target, llama a la clase y se muestra como el resultado."
      ]
    },
    {
      "cell_type": "markdown",
      "metadata": {
        "id": "GwxHRLV9deKC"
      },
      "source": [
        "Tarea Two mult con hash map"
      ]
    },
    {
      "cell_type": "code",
      "execution_count": 2,
      "metadata": {
        "colab": {
          "base_uri": "https://localhost:8080/"
        },
        "id": "Cije7JqqdkGc",
        "outputId": "7401301b-fc96-45b6-c564-b342d8f7cdf9"
      },
      "outputs": [
        {
          "name": "stdout",
          "output_type": "stream",
          "text": [
            "indices encontrados [0, 2]\n"
          ]
        }
      ],
      "source": [
        "from typing import List\n",
        "\n",
        "class Solution:\n",
        "    def twoMultH(self, nums: List[int], target: int) -> List[int]:\n",
        "        mapa = {}  # valor -> índice\n",
        "\n",
        "        for i, num in enumerate(nums):\n",
        "\n",
        "            if num == 0:\n",
        "                continue\n",
        "\n",
        "            complemento = target / num\n",
        "\n",
        "            if complemento in mapa:\n",
        "                return [mapa[complemento], i]\n",
        "\n",
        "\n",
        "            mapa[num] = i\n",
        "\n",
        "solu = Solution()\n",
        "nums = [2, 0, 9, 15]\n",
        "target = 18\n",
        "result = solu.twoMultH(nums, target)\n",
        "print(\"indices encontrados\", result)"
      ]
    },
    {
      "cell_type": "markdown",
      "metadata": {
        "id": "qql_0_nakvwA"
      },
      "source": [
        "Este problema me resulto un poco mas confuso pero lo entendi a la perfeccion, entendi que mi complento tiene que estar en el arreglo y asi el programa al saber que divide que al encontrar un numero similar ya sabe que el producto de esos dos numeros es mi resultado y por ende me dice sus posiciones, lo que me confundio es que si hay un 0 en la lista da error, porque no se puede dividir por 0 pero esto se soluciona facil ya que solo condicione a mi for que si ve un 0 solo que continue, es un poco mas complejo pero mas eficacion ya que va guardando numeros y encontrando el mismo complemento y numero en el arreglo, para poder sacar el producto de estos numeros solo tenia que dividir no multiplicar."
      ]
    }
  ],
  "metadata": {
    "colab": {
      "provenance": []
    },
    "kernelspec": {
      "display_name": "Python 3",
      "name": "python3"
    },
    "language_info": {
      "name": "python"
    }
  },
  "nbformat": 4,
  "nbformat_minor": 0
}
